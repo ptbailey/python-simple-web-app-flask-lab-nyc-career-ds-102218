{
 "cells": [
  {
   "cell_type": "markdown",
   "metadata": {},
   "source": [
    "# Python - Getting Started with Flask"
   ]
  },
  {
   "cell_type": "markdown",
   "metadata": {},
   "source": [
    "## Introduction\n",
    "In this lab we are going to practice making a very simple web application. To do this, we will be using a framework called Flask, which allows us to create an application that communicates with our browser. We will define a route, and have it return a string \"Hello world\". Finally, we will start a local server and visit the route in our browser, which will make a request to our program, which should then return our \"Hello world\" string. Don't worry if that sounds a bit confusing. It will become a lot clearer shortly. Let's get started!"
   ]
  },
  {
   "cell_type": "markdown",
   "metadata": {},
   "source": [
    "## Objectives\n",
    "* Install the microframework Flask\n",
    "* Create a new Flask app\n",
    "* Spin up a server to run our Flask app\n",
    "* Define routes that return text"
   ]
  },
  {
   "cell_type": "markdown",
   "metadata": {},
   "source": [
    "## Getting Started\n",
    "Okay, first thing we need to get started is make sure we have Flask installed on our local computer. So, let's install Flask. \n",
    "\n",
    "We can install Flask by simpling uncommenting out the line below and running the cell:"
   ]
  },
  {
   "cell_type": "code",
<<<<<<< HEAD
   "execution_count": 3,
=======
   "execution_count": 2,
   "metadata": {},
   "outputs": [
    {
     "name": "stdout",
     "output_type": "stream",
     "text": [
      "Collecting flask\n",
      "\u001b[?25l  Downloading https://files.pythonhosted.org/packages/7f/e7/08578774ed4536d3242b14dacb4696386634607af824ea997202cd0edb4b/Flask-1.0.2-py2.py3-none-any.whl (91kB)\n",
      "\u001b[K    100% |████████████████████████████████| 92kB 10.7MB/s ta 0:00:01\n",
      "\u001b[?25hRequirement already satisfied: Jinja2>=2.10 in /opt/conda/envs/learn-env/lib/python3.6/site-packages (from flask) (2.10)\n",
      "Collecting click>=5.1 (from flask)\n",
      "\u001b[?25l  Downloading https://files.pythonhosted.org/packages/fa/37/45185cb5abbc30d7257104c434fe0b07e5a195a6847506c074527aa599ec/Click-7.0-py2.py3-none-any.whl (81kB)\n",
      "\u001b[K    100% |████████████████████████████████| 81kB 24.5MB/s ta 0:00:01\n",
      "\u001b[?25hRequirement already satisfied: Werkzeug>=0.14 in /opt/conda/envs/learn-env/lib/python3.6/site-packages (from flask) (0.14.1)\n",
      "Collecting itsdangerous>=0.24 (from flask)\n",
      "  Downloading https://files.pythonhosted.org/packages/76/ae/44b03b253d6fade317f32c24d100b3b35c2239807046a4c953c7b89fa49e/itsdangerous-1.1.0-py2.py3-none-any.whl\n",
      "Requirement already satisfied: MarkupSafe>=0.23 in /opt/conda/envs/learn-env/lib/python3.6/site-packages (from Jinja2>=2.10->flask) (1.0)\n",
      "Installing collected packages: click, itsdangerous, flask\n",
      "Successfully installed click-7.0 flask-1.0.2 itsdangerous-1.1.0\n",
      "\u001b[33mYou are using pip version 10.0.1, however version 18.1 is available.\n",
      "You should consider upgrading via the 'pip install --upgrade pip' command.\u001b[0m\n"
     ]
    }
   ],
   "source": [
    "!pip install flask"
   ]
  },
  {
   "cell_type": "code",
   "execution_count": 4,
>>>>>>> 8fa42859ea8a3aea16d192111a6848465ba738fd
   "metadata": {},
   "outputs": [
    {
     "name": "stdout",
     "output_type": "stream",
     "text": [
<<<<<<< HEAD
      "Requirement already satisfied: flask in /Users/PB/anaconda3/lib/python3.7/site-packages (1.0.2)\n",
      "Requirement already satisfied: click>=5.1 in /Users/PB/anaconda3/lib/python3.7/site-packages (from flask) (6.7)\n",
      "Requirement already satisfied: Werkzeug>=0.14 in /Users/PB/anaconda3/lib/python3.7/site-packages (from flask) (0.14.1)\n",
      "Requirement already satisfied: Jinja2>=2.10 in /Users/PB/anaconda3/lib/python3.7/site-packages (from flask) (2.10)\n",
      "Requirement already satisfied: itsdangerous>=0.24 in /Users/PB/anaconda3/lib/python3.7/site-packages (from flask) (0.24)\n",
      "Requirement already satisfied: MarkupSafe>=0.23 in /Users/PB/anaconda3/lib/python3.7/site-packages (from Jinja2>=2.10->flask) (1.0)\n"
=======
      "Collecting pip\n",
      "\u001b[?25l  Downloading https://files.pythonhosted.org/packages/c2/d7/90f34cb0d83a6c5631cf71dfe64cc1054598c843a92b400e55675cc2ac37/pip-18.1-py2.py3-none-any.whl (1.3MB)\n",
      "\u001b[K    100% |████████████████████████████████| 1.3MB 9.5MB/s eta 0:00:01\n",
      "\u001b[?25hInstalling collected packages: pip\n",
      "  Found existing installation: pip 10.0.1\n",
      "    Uninstalling pip-10.0.1:\n",
      "      Successfully uninstalled pip-10.0.1\n",
      "Successfully installed pip-18.1\n"
>>>>>>> 8fa42859ea8a3aea16d192111a6848465ba738fd
     ]
    }
   ],
   "source": [
<<<<<<< HEAD
    "!pip install flask"
=======
    "!pip install --upgrade pip"
>>>>>>> 8fa42859ea8a3aea16d192111a6848465ba738fd
   ]
  },
  {
   "cell_type": "markdown",
   "metadata": {},
   "source": [
    "Once Flask is installed we can move on to getting our app up and running."
   ]
  },
  {
   "cell_type": "markdown",
   "metadata": {},
   "source": [
    "## Creating a New Flask App\n",
    "Next we are going to be using our file called `hello_world.py`. We will need to import Flask like so:\n",
    "```python\n",
    "from flask import Flask\n",
    "```\n",
    "Then we need to define a variable, let's call it `app`. Assign `app` to a new instance of the Flask class with `__name__` as its argument (i.e. `Flask(__name__)`. Don't worry to much about the `__name__` right now. Just know that it is Flask's way of determining the best way to import other files and modules inside your application. When the file is run, `__name__` resolves to `\"__main__\"`.\n",
    "\n",
    "Great! now we have the beginnings of our Flask app set up. Our variable `app` represents a Flask object which we can use to continue building our app."
   ]
  },
  {
   "cell_type": "markdown",
   "metadata": {},
   "source": [
    "## Running Our App"
   ]
  },
  {
   "cell_type": "markdown",
   "metadata": {},
   "source": [
    "Alright, our app doesn't do much of anything yet but we did just say that we created a new Flask object and this is a Flask app after all. Let's run it!\n",
    "\n",
    "To start a Flask app we need to tell it to run. So, below where we have our `app` variable defined, let's tell our app to run. And since we want to know of any errors we encounter, let's tell our `app` to show any errors we encounter with `debug=True`.\n",
    "\n",
    "```python\n",
    "if __name__ == '__main__':\n",
    "    app.run(debug=True)\n",
    "\n",
    "```\n",
    "\n",
    "Awesome, now we just need to run our `hellow_world.py` file with `python hello_world.py` and our app will start a server that is running on our computer. To see our app running, visit `http://127.0.0.1:5000/` in your browser. Alternatively we can type `localhost:5000` into our url to see our app running. \n",
    "\n",
    "Once you get your server up you should see this displayed:"
   ]
  },
  {
   "cell_type": "markdown",
   "metadata": {},
   "source": [
    "![](not_found_flask.png)"
   ]
  },
  {
   "cell_type": "markdown",
   "metadata": {},
   "source": [
    "**Oh no!**\n",
    "![404_gif](not_found_404_.gif)"
   ]
  },
  {
   "cell_type": "markdown",
   "metadata": {},
   "source": [
    "Alright, unfortunately we haven't yet told our app what to do when someone visits it. Our 404 message even tells us that our server couldn't find the URL we requeste (i.e. `'/'`). So, we need to tell our app how to handle a request from a server or client. How do we do that? With routes, of course! Let's get some routes defined.\n",
    "\n"
   ]
  },
  {
   "cell_type": "markdown",
   "metadata": {},
   "source": [
    "## Defining Some Routes"
   ]
  },
  {
   "cell_type": "markdown",
   "metadata": {},
   "source": [
    "Alright, we have the beginning of our app set up and a server running, but we want to tell our app what to do when a request is made. The first route we will need is the index (`'/'`), so, let's define a route and a function to return some text when a client requests the index route.\n",
    "\n",
    "> **Remember:** *we need to use a decorator to attach or wrap the function definition below together with our route.*\n",
    "\n",
    "```python\n",
    "@app.route('/')\n",
    "def index():\n",
    "    return \"Hello, world!\"\n",
    "    \n",
    "```"
   ]
  },
  {
   "cell_type": "markdown",
   "metadata": {},
   "source": [
    "Woo! Now when someone visits the root route or index of our app, they see the text `\"Hello, world!\"`. \n",
    "\n",
    "Let's take this a step further and define a few more routes.  The function defined with each route should have its own unique name.  For example, our app would break if we created a route for `'/home'` with the function `index()` because Flask would attempt to overwrite the previous `index()` function used in the `'/'` route.  For the purposes of this lab, it makes sense to give each function the same name as the route it is associated with.  Therefore, the `'/home'` route should include the function `home()`.\n",
    "\n",
    "* Define a route for `'/home'` which shows the text `\"Welcome to an amazing Flask App!\"`\n",
    "* Define a route for `'/myprofile'` which shows the text `\"This is my profile! It's not finished yet... :/\"`\n",
    "* Define a route for `'/exit'` which shows the text `\"Thanks for looking around. Come back again soon!\"`"
   ]
  },
  {
   "cell_type": "markdown",
   "metadata": {},
   "source": [
    "## Summary"
   ]
  },
  {
   "cell_type": "markdown",
   "metadata": {},
   "source": [
    "Great work! In this lab we installed the microframework Flask and used it to create a simple web app! We created a new Flask app and started our server. Then after seeing that our server didn't know how to handle a request to the index route, we defined a few routes and had them return some text when a client requests the route. This isn't terribly complex, but our apps will be able to do much more once we learn more about Flask and the web."
   ]
  }
 ],
 "metadata": {
  "kernelspec": {
   "display_name": "Python 3",
   "language": "python",
   "name": "python3"
  },
  "language_info": {
   "codemirror_mode": {
    "name": "ipython",
    "version": 3
   },
   "file_extension": ".py",
   "mimetype": "text/x-python",
   "name": "python",
   "nbconvert_exporter": "python",
   "pygments_lexer": "ipython3",
<<<<<<< HEAD
   "version": "3.7.0"
=======
   "version": "3.6.6"
>>>>>>> 8fa42859ea8a3aea16d192111a6848465ba738fd
  }
 },
 "nbformat": 4,
 "nbformat_minor": 2
}
